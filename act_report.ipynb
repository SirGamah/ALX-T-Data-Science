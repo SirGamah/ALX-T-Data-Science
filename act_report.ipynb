{
 "cells": [
  {
   "cell_type": "markdown",
   "id": "c706076e",
   "metadata": {},
   "source": [
    "# Act Report on WeRateDogs Twitter Account Data Analysis\n",
    "\n",
    "WeRateDogs is a Twitter account with funny and interesting tweets about dogs."
   ]
  },
  {
   "cell_type": "markdown",
   "id": "5425ff83",
   "metadata": {},
   "source": [
    "<p><img src = \"images/original.png\" width = 100%></p>"
   ]
  },
  {
   "cell_type": "markdown",
   "id": "73df33bd",
   "metadata": {},
   "source": [
    "## From the analysis done on the data that was gathered and cleaned, the following insights were obtained."
   ]
  },
  {
   "cell_type": "markdown",
   "id": "755a3f88",
   "metadata": {},
   "source": [
    "### Frequency of Dog Ratings \n",
    "\n",
    "A consideration of the frequency of dog rating was done which led to the visualization below.\n",
    "\n",
    "<p><img src = \"images/rating_freq.PNG\" width = 100%></p>\n",
    "\n",
    "<p>It's interesting to find out that some dogs have ratings more than 400/10. This could be an outlier.</p>\n",
    "<p>From here, the outliers were identified and further investigated using a scatter plot which produced the output below.</p>\n",
    "\n",
    "<p><img src = \"images/rating_freq_scatter.PNG\" width = 100%></p>\n",
    "\n",
    "<p>To identify these outliers, the images for these dogs were downloaded using the URLs provided in the dataset. The images downloaded are the followings.</p>\n",
    "\n",
    "<p><img src = \"images/outlied_ratings.PNG\" width = 100%></p>\n",
    "\n",
    "<p>It turned out that the dogs with the highest rating are a dog dresses in the American flag and the American rapper Snoop Dogg.</p>"
   ]
  },
  {
   "cell_type": "markdown",
   "id": "3fe1d663",
   "metadata": {},
   "source": [
    "### The correlation between favorite dogs and retweet\n",
    "\n",
    "<p>To find out whether people retweeted dogs because they liked them, a correlation between retweets and favorite counts on the dogs was done which gave the output below.</p>\n",
    "\n",
    "<p><img src = \"images/fav_vs_retweet.PNG\" width = 100%></p>\n",
    "\n",
    "<p>This seems to show a positive correlation, thus the more the favorite count of a dog, the more the retweet. To confirm this positive correlation, the diagram below was produced.</p>\n",
    "\n",
    "<p><img src = \"images/fav_vs_retweet_corr.PNG\" width = 100%></p>\n",
    "\n",
    "<p>This shows a positive correlation between the favorite dog counts and the retweet which comfirms that the more favorite a dog is, the more people retweeted it.</p>"
   ]
  },
  {
   "cell_type": "markdown",
   "id": "dda037a0",
   "metadata": {},
   "source": [
    "### The most liked dog stage\n",
    "\n",
    "<p>From the analysis, it was found that the most liked dog stage is <b>Pupper</b>, which is also the most retweeted dog stage</p>\n",
    "\n",
    "<p><img src = \"images/most_retweeted_dog_stage.PNG\" width = 100%></p>\n",
    "<p><img src = \"images/pupper-dog.jpg\" width = 100%>A <b>Pupper Dog</b></p>"
   ]
  },
  {
   "cell_type": "markdown",
   "id": "5321dd6e",
   "metadata": {},
   "source": [
    "### Tweet Source Count\n",
    "\n",
    "<p>From the analysis, it was found that the <b>Twitter for iPhone</b> is the highest source of tweets, thus the large number of tweets were made using an iPhone.</p>\n",
    "<p><img src = \"images/tweet_source_count.PNG\" width = 100%></p>"
   ]
  },
  {
   "cell_type": "markdown",
   "id": "04cde926",
   "metadata": {},
   "source": [
    "### Top 12 Most Used Dog Names\n",
    "\n",
    "<p>It was interesting to identify that the 12 most used dog names are Charlie, Lucy, Penny, Oliver, Tucker, Cooper, Bo, Sadie, Winston, Lola, Toby and Daisy as seen from the visualization below</p>\n",
    "\n",
    "<p><img src = \"images/top12_dog_names.PNG\" width = 100%></p>"
   ]
  }
 ],
 "metadata": {
  "kernelspec": {
   "display_name": "Python 3 (ipykernel)",
   "language": "python",
   "name": "python3"
  },
  "language_info": {
   "codemirror_mode": {
    "name": "ipython",
    "version": 3
   },
   "file_extension": ".py",
   "mimetype": "text/x-python",
   "name": "python",
   "nbconvert_exporter": "python",
   "pygments_lexer": "ipython3",
   "version": "3.9.7"
  }
 },
 "nbformat": 4,
 "nbformat_minor": 5
}
